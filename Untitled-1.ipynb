{
 "cells": [
  {
   "cell_type": "code",
   "execution_count": null,
   "metadata": {},
   "outputs": [],
   "source": [
    "# Keenland\n",
    " \n",
    " # Keeneland Association: A Unique View of Lexington, KY\n",
    "## Where This Area Is Located\n",
    "\n",
    "This snapshot highlights the **Keeneland Association**, a historic thoroughbred racecourse located in **Lexington, Kentucky**. Known for its elegant grounds and deep ties to horse racing, this area is a cultural and economic landmark in central Kentucky.\n",
    "\n",
    "![Aerial View of Keeneland Association](Lab7_Map.jpg)  \n",
    "*Map showing the Keeneland Association and surrounding area*\n",
    "\n",
    "[View high-resolution version](Layout1.pdf)\n",
    "\n",
    "---\n",
    "\n",
    "**Created by:** [Tristan]  \n",
    "**Tools Used:** OpenStreetMap, ArcGIS Pro, Blender  \n",
    "**Data Sources:** OpenStreetMaps, Custom ArcGIS layers  \n",
    "**Purpose:** To visualize and communicate the unique layout and importance of this iconic area through geospatial and 3D design tools.\n",
    "\n"
   ]
  }
 ],
 "metadata": {
  "language_info": {
   "name": "python"
  }
 },
 "nbformat": 4,
 "nbformat_minor": 2
}
